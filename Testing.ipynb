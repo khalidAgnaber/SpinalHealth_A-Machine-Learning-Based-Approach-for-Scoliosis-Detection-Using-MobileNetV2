{
 "cells": [
  {
   "cell_type": "code",
   "execution_count": 1,
   "metadata": {},
   "outputs": [
    {
     "name": "stderr",
     "output_type": "stream",
     "text": [
      "2025-03-08 23:09:43.770675: I tensorflow/core/platform/cpu_feature_guard.cc:210] This TensorFlow binary is optimized to use available CPU instructions in performance-critical operations.\n",
      "To enable the following instructions: AVX2 FMA, in other operations, rebuild TensorFlow with the appropriate compiler flags.\n",
      "WARNING:absl:Compiled the loaded model, but the compiled metrics have yet to be built. `model.compile_metrics` will be empty until you train or evaluate the model.\n"
     ]
    }
   ],
   "source": [
    "# 1. Load the Saved Model\n",
    "\n",
    "#This section loads the previously trained model saved as `spine_model.h5`.\n",
    "import tensorflow as tf\n",
    "import numpy as np\n",
    "\n",
    "model = tf.keras.models.load_model('spine_model.h5')"
   ]
  },
  {
   "cell_type": "code",
   "execution_count": 2,
   "metadata": {},
   "outputs": [],
   "source": [
    "# 2. Preprocessing for Testing\n",
    "\n",
    "#We define a preprocessing function that matches the training preprocessing (resizing and MobileNetV2 preprocessing).\n",
    "def preprocess_test(image):\n",
    "    # Resize the image to match the training input dimensions\n",
    "    image = tf.image.resize(image, [224, 224])\n",
    "    return tf.keras.applications.mobilenet_v2.preprocess_input(image)\n"
   ]
  },
  {
   "cell_type": "code",
   "execution_count": 3,
   "metadata": {},
   "outputs": [
    {
     "name": "stdout",
     "output_type": "stream",
     "text": [
      "Found 60 files belonging to 2 classes.\n"
     ]
    }
   ],
   "source": [
    "# 3. Load Test Dataset\n",
    "\n",
    "#We load the test dataset from the directory structure. The test images are located in `Spines/TestImages/`, organized by class.\n",
    "test_ds = tf.keras.preprocessing.image_dataset_from_directory(\n",
    "    'Spines/TestImages/',\n",
    "    label_mode='int',\n",
    "    class_names=['NormalFinal', 'ScolFinal'],\n",
    "    color_mode='rgb',\n",
    "    batch_size=1,\n",
    "    image_size=(224, 224),\n",
    "    shuffle=False\n",
    ").map(lambda x, y: (preprocess_test(x), y))\n"
   ]
  },
  {
   "cell_type": "code",
   "execution_count": 8,
   "metadata": {},
   "outputs": [
    {
     "name": "stdout",
     "output_type": "stream",
     "text": [
      "\u001b[1m60/60\u001b[0m \u001b[32m━━━━━━━━━━━━━━━━━━━━\u001b[0m\u001b[37m\u001b[0m \u001b[1m6s\u001b[0m 96ms/step - accuracy: 0.8919 - loss: 0.2878\n",
      "\n",
      "Test Accuracy: 0.9333\n"
     ]
    }
   ],
   "source": [
    "# 4. Evaluate the Model on Test Data\n",
    "\n",
    "#We evaluate the model on the test dataset to obtain the loss and accuracy.\n",
    "loss, accuracy = model.evaluate(test_ds)\n",
    "print(f\"\\nTest Accuracy: {accuracy:.4f}\")\n"
   ]
  },
  {
   "cell_type": "code",
   "execution_count": 9,
   "metadata": {},
   "outputs": [
    {
     "name": "stdout",
     "output_type": "stream",
     "text": [
      "\u001b[1m1/1\u001b[0m \u001b[32m━━━━━━━━━━━━━━━━━━━━\u001b[0m\u001b[37m\u001b[0m \u001b[1m0s\u001b[0m 140ms/step\n",
      "True: 0 | Predicted: 0 | Confidence: 82.18%\n",
      "\u001b[1m1/1\u001b[0m \u001b[32m━━━━━━━━━━━━━━━━━━━━\u001b[0m\u001b[37m\u001b[0m \u001b[1m0s\u001b[0m 152ms/step\n",
      "True: 0 | Predicted: 1 | Confidence: 93.90%\n",
      "\u001b[1m1/1\u001b[0m \u001b[32m━━━━━━━━━━━━━━━━━━━━\u001b[0m\u001b[37m\u001b[0m \u001b[1m0s\u001b[0m 158ms/step\n",
      "True: 0 | Predicted: 0 | Confidence: 67.65%\n",
      "\u001b[1m1/1\u001b[0m \u001b[32m━━━━━━━━━━━━━━━━━━━━\u001b[0m\u001b[37m\u001b[0m \u001b[1m0s\u001b[0m 145ms/step\n",
      "True: 0 | Predicted: 0 | Confidence: 99.38%\n",
      "\u001b[1m1/1\u001b[0m \u001b[32m━━━━━━━━━━━━━━━━━━━━\u001b[0m\u001b[37m\u001b[0m \u001b[1m0s\u001b[0m 269ms/step\n",
      "True: 0 | Predicted: 0 | Confidence: 98.83%\n"
     ]
    },
    {
     "name": "stderr",
     "output_type": "stream",
     "text": [
      "2025-03-08 23:11:47.164458: W tensorflow/core/framework/local_rendezvous.cc:404] Local rendezvous is aborting with status: OUT_OF_RANGE: End of sequence\n"
     ]
    }
   ],
   "source": [
    "# 5. Sample Predictions\n",
    "\n",
    "#This section displays predictions for a few test samples. For each sample, the true label, predicted label, and confidence (probability) are printed.\n",
    "for images, labels in test_ds.take(5):\n",
    "    pred = model.predict(images)\n",
    "    predicted_label = np.argmax(pred)\n",
    "    confidence = np.max(pred)\n",
    "    print(f\"True: {labels[0].numpy()} | Predicted: {predicted_label} | Confidence: {confidence:.2%}\")\n"
   ]
  }
 ],
 "metadata": {
  "kernelspec": {
   "display_name": "Python 3",
   "language": "python",
   "name": "python3"
  },
  "language_info": {
   "codemirror_mode": {
    "name": "ipython",
    "version": 3
   },
   "file_extension": ".py",
   "mimetype": "text/x-python",
   "name": "python",
   "nbconvert_exporter": "python",
   "pygments_lexer": "ipython3",
   "version": "3.12.0"
  }
 },
 "nbformat": 4,
 "nbformat_minor": 2
}
